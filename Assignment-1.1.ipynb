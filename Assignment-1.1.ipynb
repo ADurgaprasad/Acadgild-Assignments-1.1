{
 "cells": [
  {
   "cell_type": "code",
   "execution_count": 1,
   "metadata": {},
   "outputs": [
    {
     "data": {
      "text/plain": [
       "int"
      ]
     },
     "execution_count": 1,
     "metadata": {},
     "output_type": "execute_result"
    }
   ],
   "source": [
    "x=1\n",
    "type(x)"
   ]
  },
  {
   "cell_type": "code",
   "execution_count": 2,
   "metadata": {},
   "outputs": [
    {
     "name": "stdout",
     "output_type": "stream",
     "text": [
      "1\n"
     ]
    }
   ],
   "source": [
    "print(x)"
   ]
  },
  {
   "cell_type": "code",
   "execution_count": 4,
   "metadata": {},
   "outputs": [
    {
     "name": "stdout",
     "output_type": "stream",
     "text": [
      "False\n"
     ]
    }
   ],
   "source": [
    "x=3.6\n",
    "type(x)\n",
    "y=x>10\n",
    "type(y)\n",
    "print(y)"
   ]
  },
  {
   "cell_type": "code",
   "execution_count": 7,
   "metadata": {},
   "outputs": [
    {
     "name": "stdout",
     "output_type": "stream",
     "text": [
      "<class 'float'>\n",
      "False\n",
      "3.6\n"
     ]
    }
   ],
   "source": [
    "x=3.6\n",
    "type(x)\n",
    "y=x>10\n",
    "print(type(x))\n",
    "type(y)\n",
    "print(y)\n",
    "print(x)"
   ]
  },
  {
   "cell_type": "code",
   "execution_count": 10,
   "metadata": {},
   "outputs": [
    {
     "data": {
      "text/plain": [
       "bool"
      ]
     },
     "execution_count": 10,
     "metadata": {},
     "output_type": "execute_result"
    }
   ],
   "source": [
    "type(y)"
   ]
  },
  {
   "cell_type": "code",
   "execution_count": 12,
   "metadata": {},
   "outputs": [
    {
     "data": {
      "text/plain": [
       "float"
      ]
     },
     "execution_count": 12,
     "metadata": {},
     "output_type": "execute_result"
    }
   ],
   "source": [
    "x=2.0+9.5\n",
    "type(x)"
   ]
  },
  {
   "cell_type": "code",
   "execution_count": 16,
   "metadata": {},
   "outputs": [
    {
     "name": "stdout",
     "output_type": "stream",
     "text": [
      "hi\n",
      "i am prasad\n"
     ]
    }
   ],
   "source": [
    "x='''hi\n",
    "i am prasad'''\n",
    "print(x)"
   ]
  },
  {
   "cell_type": "code",
   "execution_count": 18,
   "metadata": {},
   "outputs": [
    {
     "name": "stdout",
     "output_type": "stream",
     "text": [
      "It's great\n"
     ]
    }
   ],
   "source": [
    "y='It\\'s great'\n",
    "type(y)\n",
    "print(y)"
   ]
  },
  {
   "cell_type": "code",
   "execution_count": 19,
   "metadata": {},
   "outputs": [
    {
     "ename": "NameError",
     "evalue": "name 'A' is not defined",
     "output_type": "error",
     "traceback": [
      "\u001b[1;31m---------------------------------------------------------------------------\u001b[0m",
      "\u001b[1;31mNameError\u001b[0m                                 Traceback (most recent call last)",
      "\u001b[1;32m<ipython-input-19-b07b90f72a8d>\u001b[0m in \u001b[0;36m<module>\u001b[1;34m()\u001b[0m\n\u001b[0;32m      1\u001b[0m \u001b[0mx\u001b[0m\u001b[1;33m=\u001b[0m\u001b[1;34m\"A\"\u001b[0m\u001b[1;33m\u001b[0m\u001b[0m\n\u001b[1;32m----> 2\u001b[1;33m \u001b[0mint\u001b[0m\u001b[1;33m(\u001b[0m\u001b[0mA\u001b[0m\u001b[1;33m)\u001b[0m\u001b[1;33m\u001b[0m\u001b[0m\n\u001b[0m",
      "\u001b[1;31mNameError\u001b[0m: name 'A' is not defined"
     ]
    }
   ],
   "source": [
    "x=\"A\"\n",
    "int(A)"
   ]
  },
  {
   "cell_type": "code",
   "execution_count": 20,
   "metadata": {},
   "outputs": [
    {
     "data": {
      "text/plain": [
       "1"
      ]
     },
     "execution_count": 20,
     "metadata": {},
     "output_type": "execute_result"
    }
   ],
   "source": [
    "x=\"1\"\n",
    "int(x)"
   ]
  },
  {
   "cell_type": "code",
   "execution_count": 23,
   "metadata": {},
   "outputs": [
    {
     "data": {
      "text/plain": [
       "False"
      ]
     },
     "execution_count": 23,
     "metadata": {},
     "output_type": "execute_result"
    }
   ],
   "source": [
    "not True and False"
   ]
  },
  {
   "cell_type": "code",
   "execution_count": 29,
   "metadata": {},
   "outputs": [
    {
     "name": "stdout",
     "output_type": "stream",
     "text": [
      "x is equal to y\n"
     ]
    }
   ],
   "source": [
    "x=20;y=20\n",
    "if x>y:\n",
    "    print('x is greater than y')\n",
    "elif x<y:\n",
    "    print('x is less than y')\n",
    "else:\n",
    "    print('x is equal to y')"
   ]
  },
  {
   "cell_type": "code",
   "execution_count": 31,
   "metadata": {},
   "outputs": [
    {
     "data": {
      "text/plain": [
       "[]"
      ]
     },
     "execution_count": 31,
     "metadata": {},
     "output_type": "execute_result"
    }
   ],
   "source": [
    "l=[]\n",
    "l"
   ]
  },
  {
   "cell_type": "code",
   "execution_count": 33,
   "metadata": {},
   "outputs": [
    {
     "data": {
      "text/plain": [
       "[]"
      ]
     },
     "execution_count": 33,
     "metadata": {},
     "output_type": "execute_result"
    }
   ],
   "source": [
    "l=list()\n",
    "l"
   ]
  },
  {
   "cell_type": "code",
   "execution_count": 36,
   "metadata": {},
   "outputs": [
    {
     "data": {
      "text/plain": [
       "['a', 'b', 'c']"
      ]
     },
     "execution_count": 36,
     "metadata": {},
     "output_type": "execute_result"
    }
   ],
   "source": [
    "l=['a','b','c']\n",
    "l"
   ]
  },
  {
   "cell_type": "code",
   "execution_count": 38,
   "metadata": {},
   "outputs": [
    {
     "ename": "TypeError",
     "evalue": "object of type 'int' has no len()",
     "output_type": "error",
     "traceback": [
      "\u001b[1;31m---------------------------------------------------------------------------\u001b[0m",
      "\u001b[1;31mTypeError\u001b[0m                                 Traceback (most recent call last)",
      "\u001b[1;32m<ipython-input-38-6b3b01eb5e19>\u001b[0m in \u001b[0;36m<module>\u001b[1;34m()\u001b[0m\n\u001b[1;32m----> 1\u001b[1;33m \u001b[0mlen\u001b[0m\u001b[1;33m(\u001b[0m\u001b[1;36m3\u001b[0m\u001b[1;33m)\u001b[0m\u001b[1;33m\u001b[0m\u001b[0m\n\u001b[0m",
      "\u001b[1;31mTypeError\u001b[0m: object of type 'int' has no len()"
     ]
    }
   ],
   "source": [
    "len(3)"
   ]
  },
  {
   "cell_type": "code",
   "execution_count": 40,
   "metadata": {},
   "outputs": [
    {
     "data": {
      "text/plain": [
       "3"
      ]
     },
     "execution_count": 40,
     "metadata": {},
     "output_type": "execute_result"
    }
   ],
   "source": [
    "len(l)"
   ]
  },
  {
   "cell_type": "code",
   "execution_count": 42,
   "metadata": {},
   "outputs": [
    {
     "data": {
      "text/plain": [
       "'a'"
      ]
     },
     "execution_count": 42,
     "metadata": {},
     "output_type": "execute_result"
    }
   ],
   "source": [
    "l[0]"
   ]
  },
  {
   "cell_type": "code",
   "execution_count": 44,
   "metadata": {},
   "outputs": [
    {
     "data": {
      "text/plain": [
       "'c'"
      ]
     },
     "execution_count": 44,
     "metadata": {},
     "output_type": "execute_result"
    }
   ],
   "source": [
    "l[2]"
   ]
  },
  {
   "cell_type": "code",
   "execution_count": 47,
   "metadata": {},
   "outputs": [
    {
     "data": {
      "text/plain": [
       "'b'"
      ]
     },
     "execution_count": 47,
     "metadata": {},
     "output_type": "execute_result"
    }
   ],
   "source": [
    "l[1]"
   ]
  },
  {
   "cell_type": "code",
   "execution_count": 49,
   "metadata": {},
   "outputs": [
    {
     "data": {
      "text/plain": [
       "'a'"
      ]
     },
     "execution_count": 49,
     "metadata": {},
     "output_type": "execute_result"
    }
   ],
   "source": [
    "l[-3]"
   ]
  },
  {
   "cell_type": "code",
   "execution_count": 51,
   "metadata": {},
   "outputs": [
    {
     "data": {
      "text/plain": [
       "'c'"
      ]
     },
     "execution_count": 51,
     "metadata": {},
     "output_type": "execute_result"
    }
   ],
   "source": [
    "l[-1\n",
    " ]"
   ]
  },
  {
   "cell_type": "code",
   "execution_count": 53,
   "metadata": {},
   "outputs": [
    {
     "data": {
      "text/plain": [
       "[1, 2, 3, 4, 5, 6, 7, 8, 9, 10]"
      ]
     },
     "execution_count": 53,
     "metadata": {},
     "output_type": "execute_result"
    }
   ],
   "source": [
    "list1=[1,2,3,4,5,6,7,8,9,10]\n",
    "list1"
   ]
  },
  {
   "cell_type": "code",
   "execution_count": 56,
   "metadata": {},
   "outputs": [
    {
     "data": {
      "text/plain": [
       "[]"
      ]
     },
     "execution_count": 56,
     "metadata": {},
     "output_type": "execute_result"
    }
   ],
   "source": [
    "list1[-5:5]"
   ]
  },
  {
   "cell_type": "code",
   "execution_count": 59,
   "metadata": {},
   "outputs": [
    {
     "data": {
      "text/plain": [
       "[1, 2, 3, 4, 5, 6, 7, 8]"
      ]
     },
     "execution_count": 59,
     "metadata": {},
     "output_type": "execute_result"
    }
   ],
   "source": [
    "list1[:-2]"
   ]
  },
  {
   "cell_type": "code",
   "execution_count": 65,
   "metadata": {},
   "outputs": [
    {
     "data": {
      "text/plain": [
       "['a',\n",
       " 'b',\n",
       " 'c',\n",
       " 'd',\n",
       " 'e',\n",
       " 'f',\n",
       " 'g',\n",
       " 'h',\n",
       " 'i',\n",
       " 'j',\n",
       " 'k',\n",
       " 'l',\n",
       " 'm',\n",
       " 'n',\n",
       " 'o',\n",
       " 'p',\n",
       " 'q',\n",
       " 'r',\n",
       " 's',\n",
       " 't',\n",
       " 'u',\n",
       " 'v',\n",
       " 'w',\n",
       " 'x',\n",
       " 'y',\n",
       " 'z']"
      ]
     },
     "execution_count": 65,
     "metadata": {},
     "output_type": "execute_result"
    }
   ],
   "source": [
    "l=list('abcdefghijklmnopqrstuvwxyz')\n",
    "l"
   ]
  },
  {
   "cell_type": "code",
   "execution_count": 68,
   "metadata": {},
   "outputs": [
    {
     "data": {
      "text/plain": [
       "['a',\n",
       " 'b',\n",
       " 'c',\n",
       " 'd',\n",
       " 'e',\n",
       " 'f',\n",
       " 'g',\n",
       " 'h',\n",
       " 'i',\n",
       " 'j',\n",
       " 'k',\n",
       " 'l',\n",
       " 'm',\n",
       " 'n',\n",
       " 'o',\n",
       " 'p',\n",
       " 'q',\n",
       " 'r',\n",
       " 's',\n",
       " 't',\n",
       " 'u',\n",
       " 'v',\n",
       " 'w',\n",
       " 'x',\n",
       " 'y',\n",
       " 'z',\n",
       " 1,\n",
       " 1,\n",
       " 1]"
      ]
     },
     "execution_count": 68,
     "metadata": {},
     "output_type": "execute_result"
    }
   ],
   "source": [
    "l.append(1)\n",
    "l"
   ]
  },
  {
   "cell_type": "code",
   "execution_count": 71,
   "metadata": {},
   "outputs": [
    {
     "data": {
      "text/plain": [
       "['99999',\n",
       " '99999',\n",
       " 'a',\n",
       " 'b',\n",
       " 'c',\n",
       " 'd',\n",
       " 'e',\n",
       " 'f',\n",
       " 'g',\n",
       " 'h',\n",
       " 'i',\n",
       " 'j',\n",
       " 'k',\n",
       " 'l',\n",
       " 'm',\n",
       " 'n',\n",
       " 'o',\n",
       " 'p',\n",
       " 'q',\n",
       " 'r',\n",
       " 's',\n",
       " 't',\n",
       " 'u',\n",
       " 'v',\n",
       " 'w',\n",
       " 'x',\n",
       " 'y',\n",
       " 'z',\n",
       " 1,\n",
       " 1,\n",
       " 1]"
      ]
     },
     "execution_count": 71,
     "metadata": {},
     "output_type": "execute_result"
    }
   ],
   "source": [
    "l.insert(0,'99999')\n",
    "l"
   ]
  },
  {
   "cell_type": "code",
   "execution_count": 73,
   "metadata": {},
   "outputs": [
    {
     "name": "stdout",
     "output_type": "stream",
     "text": [
      "99999\n",
      "99999\n",
      "a\n",
      "b\n",
      "c\n",
      "d\n",
      "e\n",
      "f\n",
      "g\n",
      "h\n",
      "i\n",
      "j\n",
      "k\n",
      "l\n",
      "m\n",
      "n\n",
      "o\n",
      "p\n",
      "q\n",
      "r\n",
      "s\n",
      "t\n",
      "u\n",
      "v\n",
      "w\n",
      "x\n",
      "y\n",
      "z\n",
      "1\n",
      "1\n",
      "1\n"
     ]
    }
   ],
   "source": [
    "for x in l:\n",
    "    print(x)"
   ]
  },
  {
   "cell_type": "code",
   "execution_count": 84,
   "metadata": {},
   "outputs": [
    {
     "name": "stdout",
     "output_type": "stream",
     "text": [
      "45\n"
     ]
    }
   ],
   "source": [
    "numbers= [1,2,3,4,5,6,7,8,9]\n",
    "sum=0\n",
    "for i in numbers:\n",
    "    sum=sum+i\n",
    "print(sum)"
   ]
  },
  {
   "cell_type": "code",
   "execution_count": 90,
   "metadata": {},
   "outputs": [
    {
     "name": "stdout",
     "output_type": "stream",
     "text": [
      "4950\n"
     ]
    }
   ],
   "source": [
    "sum=0\n",
    "i=0\n",
    "while(i<100):\n",
    "    sum=sum+i\n",
    "    i=i+1\n",
    "print(sum)"
   ]
  },
  {
   "cell_type": "code",
   "execution_count": 94,
   "metadata": {},
   "outputs": [
    {
     "name": "stdout",
     "output_type": "stream",
     "text": [
      "[0, 1, 2, 3, 4, 5, 6, 7, 8, 9]\n"
     ]
    }
   ],
   "source": [
    "print(list(range(10)))"
   ]
  },
  {
   "cell_type": "code",
   "execution_count": 96,
   "metadata": {},
   "outputs": [
    {
     "ename": "SyntaxError",
     "evalue": "invalid syntax (<ipython-input-96-85857cb08303>, line 1)",
     "output_type": "error",
     "traceback": [
      "\u001b[1;36m  File \u001b[1;32m\"<ipython-input-96-85857cb08303>\"\u001b[1;36m, line \u001b[1;32m1\u001b[0m\n\u001b[1;33m    for in range(0,10):\u001b[0m\n\u001b[1;37m         ^\u001b[0m\n\u001b[1;31mSyntaxError\u001b[0m\u001b[1;31m:\u001b[0m invalid syntax\n"
     ]
    }
   ],
   "source": [
    "for in range(0,10):\n",
    "    print(i)"
   ]
  },
  {
   "cell_type": "code",
   "execution_count": 104,
   "metadata": {},
   "outputs": [
    {
     "name": "stdout",
     "output_type": "stream",
     "text": [
      "s\n",
      "t\n",
      "r\n"
     ]
    }
   ],
   "source": [
    "for val in \"string\":\n",
    "    if val==\"i\":\n",
    "        break\n",
    "    print(val)"
   ]
  },
  {
   "cell_type": "code",
   "execution_count": 106,
   "metadata": {},
   "outputs": [
    {
     "name": "stdout",
     "output_type": "stream",
     "text": [
      "s\n",
      "t\n",
      "r\n",
      "n\n",
      "g\n"
     ]
    }
   ],
   "source": [
    "for val in \"string\":\n",
    "    if val==\"i\":\n",
    "        continue\n",
    "    print(val)"
   ]
  },
  {
   "cell_type": "code",
   "execution_count": 108,
   "metadata": {},
   "outputs": [
    {
     "name": "stdout",
     "output_type": "stream",
     "text": [
      "what is your namePrasad\n"
     ]
    },
    {
     "data": {
      "text/plain": [
       "str"
      ]
     },
     "execution_count": 108,
     "metadata": {},
     "output_type": "execute_result"
    }
   ],
   "source": [
    "name=input(\"what is your name\")\n",
    "type(name)"
   ]
  },
  {
   "cell_type": "code",
   "execution_count": null,
   "metadata": {},
   "outputs": [],
   "source": [
    "name=input(\"what is your name\")\n",
    "print(\"nice talking\"+name+\"!\")\n",
    "age=input(\"enter your age\")\n",
    "print(\"hi\"+age+name)"
   ]
  },
  {
   "cell_type": "code",
   "execution_count": null,
   "metadata": {},
   "outputs": [],
   "source": [
    "name=input(\"what is your name\")"
   ]
  },
  {
   "cell_type": "code",
   "execution_count": null,
   "metadata": {},
   "outputs": [],
   "source": []
  },
  {
   "cell_type": "code",
   "execution_count": null,
   "metadata": {},
   "outputs": [],
   "source": [
    "name=input(\"what is your name\")\n",
    "type(name)"
   ]
  },
  {
   "cell_type": "code",
   "execution_count": 111,
   "metadata": {},
   "outputs": [
    {
     "name": "stdout",
     "output_type": "stream",
     "text": [
      "what is your nameprasad\n",
      "nice talkingprasad!\n",
      "enter your age23\n",
      "hi23prasad\n"
     ]
    }
   ],
   "source": [
    "name=input(\"what is your name\")\n",
    "print(\"nice talking\"+name+\"!\")\n",
    "age=input(\"enter your age\")\n",
    "print(\"hi\"+age+name)"
   ]
  },
  {
   "cell_type": "code",
   "execution_count": 113,
   "metadata": {},
   "outputs": [
    {
     "name": "stdout",
     "output_type": "stream",
     "text": [
      "Hello world\n"
     ]
    }
   ],
   "source": [
    "s=\"Hello world\"\n",
    "print(s)"
   ]
  },
  {
   "cell_type": "code",
   "execution_count": 115,
   "metadata": {},
   "outputs": [
    {
     "data": {
      "text/plain": [
       "'Hello world'"
      ]
     },
     "execution_count": 115,
     "metadata": {},
     "output_type": "execute_result"
    }
   ],
   "source": [
    "s[::1]"
   ]
  },
  {
   "cell_type": "code",
   "execution_count": 117,
   "metadata": {},
   "outputs": [
    {
     "data": {
      "text/plain": [
       "'dlrow olleH'"
      ]
     },
     "execution_count": 117,
     "metadata": {},
     "output_type": "execute_result"
    }
   ],
   "source": [
    "s[::-1]"
   ]
  },
  {
   "cell_type": "code",
   "execution_count": 119,
   "metadata": {},
   "outputs": [
    {
     "data": {
      "text/plain": [
       "'Hello worldincludeme'"
      ]
     },
     "execution_count": 119,
     "metadata": {},
     "output_type": "execute_result"
    }
   ],
   "source": [
    "s+'includeme'"
   ]
  },
  {
   "cell_type": "code",
   "execution_count": 121,
   "metadata": {},
   "outputs": [],
   "source": [
    "s=s+'includeme'"
   ]
  },
  {
   "cell_type": "code",
   "execution_count": 131,
   "metadata": {},
   "outputs": [
    {
     "data": {
      "text/plain": [
       "'Hello worldincludemeincludeme'"
      ]
     },
     "execution_count": 131,
     "metadata": {},
     "output_type": "execute_result"
    }
   ],
   "source": [
    "s"
   ]
  },
  {
   "cell_type": "code",
   "execution_count": 128,
   "metadata": {},
   "outputs": [
    {
     "data": {
      "text/plain": [
       "'ZZZZZZZZZZ'"
      ]
     },
     "execution_count": 128,
     "metadata": {},
     "output_type": "execute_result"
    }
   ],
   "source": [
    "letter='Z'\n",
    "letter*10"
   ]
  },
  {
   "cell_type": "code",
   "execution_count": 132,
   "metadata": {},
   "outputs": [
    {
     "data": {
      "text/plain": [
       "'hello worldincludemeincludeme'"
      ]
     },
     "execution_count": 132,
     "metadata": {},
     "output_type": "execute_result"
    }
   ],
   "source": [
    "s.lower()"
   ]
  },
  {
   "cell_type": "code",
   "execution_count": 134,
   "metadata": {},
   "outputs": [
    {
     "data": {
      "text/plain": [
       "['Hello', 'worldincludemeincludeme']"
      ]
     },
     "execution_count": 134,
     "metadata": {},
     "output_type": "execute_result"
    }
   ],
   "source": [
    "s.split()"
   ]
  },
  {
   "cell_type": "code",
   "execution_count": 137,
   "metadata": {},
   "outputs": [
    {
     "data": {
      "text/plain": [
       "2"
      ]
     },
     "execution_count": 137,
     "metadata": {},
     "output_type": "execute_result"
    }
   ],
   "source": [
    "s.count(\"o\")"
   ]
  },
  {
   "cell_type": "code",
   "execution_count": 140,
   "metadata": {},
   "outputs": [
    {
     "data": {
      "text/plain": [
       "'ZZZZZZZZZZHello worldincludemeincludemeZZZZZZZZZZZ'"
      ]
     },
     "execution_count": 140,
     "metadata": {},
     "output_type": "execute_result"
    }
   ],
   "source": [
    "s.center(50,'Z')"
   ]
  },
  {
   "cell_type": "code",
   "execution_count": 142,
   "metadata": {},
   "outputs": [
    {
     "data": {
      "text/plain": [
       "'string1:x'"
      ]
     },
     "execution_count": 142,
     "metadata": {},
     "output_type": "execute_result"
    }
   ],
   "source": [
    "'string1:{}'.format('x')"
   ]
  },
  {
   "cell_type": "code",
   "execution_count": 145,
   "metadata": {},
   "outputs": [
    {
     "data": {
      "text/plain": [
       "False"
      ]
     },
     "execution_count": 145,
     "metadata": {},
     "output_type": "execute_result"
    }
   ],
   "source": [
    "s.isspace()"
   ]
  },
  {
   "cell_type": "code",
   "execution_count": 148,
   "metadata": {},
   "outputs": [],
   "source": [
    "s='hello hello'"
   ]
  },
  {
   "cell_type": "code",
   "execution_count": 150,
   "metadata": {},
   "outputs": [
    {
     "data": {
      "text/plain": [
       "('h', 'e', 'llo hello')"
      ]
     },
     "execution_count": 150,
     "metadata": {},
     "output_type": "execute_result"
    }
   ],
   "source": [
    "s.partition('e')"
   ]
  },
  {
   "cell_type": "code",
   "execution_count": 152,
   "metadata": {},
   "outputs": [
    {
     "data": {
      "text/plain": [
       "['h', 'llo h', 'llo']"
      ]
     },
     "execution_count": 152,
     "metadata": {},
     "output_type": "execute_result"
    }
   ],
   "source": [
    "s.split('e')"
   ]
  },
  {
   "cell_type": "code",
   "execution_count": null,
   "metadata": {},
   "outputs": [],
   "source": [
    "my_list=[[1,2,3],['a','b','c'],['abc','deg'],[10.21,2,5]]"
   ]
  },
  {
   "cell_type": "code",
   "execution_count": 157,
   "metadata": {},
   "outputs": [
    {
     "data": {
      "text/plain": [
       "3"
      ]
     },
     "execution_count": 157,
     "metadata": {},
     "output_type": "execute_result"
    }
   ],
   "source": [
    "my_list[0][2]"
   ]
  },
  {
   "cell_type": "code",
   "execution_count": 159,
   "metadata": {},
   "outputs": [
    {
     "data": {
      "text/plain": [
       "[[1, 2, 3], ['a', 'b', 'c'], ['abc', 'deg']]"
      ]
     },
     "execution_count": 159,
     "metadata": {},
     "output_type": "execute_result"
    }
   ],
   "source": [
    "my_list[:3]"
   ]
  },
  {
   "cell_type": "code",
   "execution_count": 163,
   "metadata": {},
   "outputs": [],
   "source": [
    "my_list=my_list+my_list"
   ]
  },
  {
   "cell_type": "code",
   "execution_count": 165,
   "metadata": {},
   "outputs": [
    {
     "data": {
      "text/plain": [
       "[[1, 2, 3],\n",
       " ['a', 'b', 'c'],\n",
       " ['abc', 'deg'],\n",
       " [10.21, 2, 5],\n",
       " [1, 2, 3],\n",
       " ['a', 'b', 'c'],\n",
       " ['abc', 'deg'],\n",
       " [10.21, 2, 5],\n",
       " [1, 2, 3],\n",
       " ['a', 'b', 'c'],\n",
       " ['abc', 'deg'],\n",
       " [10.21, 2, 5],\n",
       " [1, 2, 3],\n",
       " ['a', 'b', 'c'],\n",
       " ['abc', 'deg'],\n",
       " [10.21, 2, 5],\n",
       " [1, 2, 3],\n",
       " ['a', 'b', 'c'],\n",
       " ['abc', 'deg'],\n",
       " [10.21, 2, 5],\n",
       " [1, 2, 3],\n",
       " ['a', 'b', 'c'],\n",
       " ['abc', 'deg'],\n",
       " [10.21, 2, 5],\n",
       " [1, 2, 3],\n",
       " ['a', 'b', 'c'],\n",
       " ['abc', 'deg'],\n",
       " [10.21, 2, 5],\n",
       " [1, 2, 3],\n",
       " ['a', 'b', 'c'],\n",
       " ['abc', 'deg'],\n",
       " [10.21, 2, 5],\n",
       " [1, 2, 3],\n",
       " ['a', 'b', 'c'],\n",
       " ['abc', 'deg'],\n",
       " [10.21, 2, 5],\n",
       " [1, 2, 3],\n",
       " ['a', 'b', 'c'],\n",
       " ['abc', 'deg'],\n",
       " [10.21, 2, 5],\n",
       " [1, 2, 3],\n",
       " ['a', 'b', 'c'],\n",
       " ['abc', 'deg'],\n",
       " [10.21, 2, 5],\n",
       " [1, 2, 3],\n",
       " ['a', 'b', 'c'],\n",
       " ['abc', 'deg'],\n",
       " [10.21, 2, 5],\n",
       " [1, 2, 3],\n",
       " ['a', 'b', 'c'],\n",
       " ['abc', 'deg'],\n",
       " [10.21, 2, 5],\n",
       " [1, 2, 3],\n",
       " ['a', 'b', 'c'],\n",
       " ['abc', 'deg'],\n",
       " [10.21, 2, 5],\n",
       " [1, 2, 3],\n",
       " ['a', 'b', 'c'],\n",
       " ['abc', 'deg'],\n",
       " [10.21, 2, 5],\n",
       " [1, 2, 3],\n",
       " ['a', 'b', 'c'],\n",
       " ['abc', 'deg'],\n",
       " [10.21, 2, 5]]"
      ]
     },
     "execution_count": 165,
     "metadata": {},
     "output_type": "execute_result"
    }
   ],
   "source": [
    "my_list"
   ]
  },
  {
   "cell_type": "code",
   "execution_count": 167,
   "metadata": {},
   "outputs": [
    {
     "data": {
      "text/plain": [
       "[[1, 2, 3],\n",
       " ['a', 'b', 'c'],\n",
       " ['abc', 'deg'],\n",
       " [10.21, 2, 5],\n",
       " [1, 2, 3],\n",
       " ['a', 'b', 'c'],\n",
       " ['abc', 'deg'],\n",
       " [10.21, 2, 5],\n",
       " [1, 2, 3],\n",
       " ['a', 'b', 'c'],\n",
       " ['abc', 'deg'],\n",
       " [10.21, 2, 5],\n",
       " [1, 2, 3],\n",
       " ['a', 'b', 'c'],\n",
       " ['abc', 'deg'],\n",
       " [10.21, 2, 5],\n",
       " [1, 2, 3],\n",
       " ['a', 'b', 'c'],\n",
       " ['abc', 'deg'],\n",
       " [10.21, 2, 5],\n",
       " [1, 2, 3],\n",
       " ['a', 'b', 'c'],\n",
       " ['abc', 'deg'],\n",
       " [10.21, 2, 5],\n",
       " [1, 2, 3],\n",
       " ['a', 'b', 'c'],\n",
       " ['abc', 'deg'],\n",
       " [10.21, 2, 5],\n",
       " [1, 2, 3],\n",
       " ['a', 'b', 'c'],\n",
       " ['abc', 'deg'],\n",
       " [10.21, 2, 5],\n",
       " [1, 2, 3],\n",
       " ['a', 'b', 'c'],\n",
       " ['abc', 'deg'],\n",
       " [10.21, 2, 5],\n",
       " [1, 2, 3],\n",
       " ['a', 'b', 'c'],\n",
       " ['abc', 'deg'],\n",
       " [10.21, 2, 5],\n",
       " [1, 2, 3],\n",
       " ['a', 'b', 'c'],\n",
       " ['abc', 'deg'],\n",
       " [10.21, 2, 5],\n",
       " [1, 2, 3],\n",
       " ['a', 'b', 'c'],\n",
       " ['abc', 'deg'],\n",
       " [10.21, 2, 5],\n",
       " [1, 2, 3],\n",
       " ['a', 'b', 'c'],\n",
       " ['abc', 'deg'],\n",
       " [10.21, 2, 5],\n",
       " [1, 2, 3],\n",
       " ['a', 'b', 'c'],\n",
       " ['abc', 'deg'],\n",
       " [10.21, 2, 5],\n",
       " [1, 2, 3],\n",
       " ['a', 'b', 'c'],\n",
       " ['abc', 'deg'],\n",
       " [10.21, 2, 5],\n",
       " [1, 2, 3],\n",
       " ['a', 'b', 'c'],\n",
       " ['abc', 'deg'],\n",
       " [10.21, 2, 5],\n",
       " [1, 2, 3],\n",
       " ['a', 'b', 'c'],\n",
       " ['abc', 'deg'],\n",
       " [10.21, 2, 5],\n",
       " [1, 2, 3],\n",
       " ['a', 'b', 'c'],\n",
       " ['abc', 'deg'],\n",
       " [10.21, 2, 5],\n",
       " [1, 2, 3],\n",
       " ['a', 'b', 'c'],\n",
       " ['abc', 'deg'],\n",
       " [10.21, 2, 5],\n",
       " [1, 2, 3],\n",
       " ['a', 'b', 'c'],\n",
       " ['abc', 'deg'],\n",
       " [10.21, 2, 5],\n",
       " [1, 2, 3],\n",
       " ['a', 'b', 'c'],\n",
       " ['abc', 'deg'],\n",
       " [10.21, 2, 5],\n",
       " [1, 2, 3],\n",
       " ['a', 'b', 'c'],\n",
       " ['abc', 'deg'],\n",
       " [10.21, 2, 5],\n",
       " [1, 2, 3],\n",
       " ['a', 'b', 'c'],\n",
       " ['abc', 'deg'],\n",
       " [10.21, 2, 5],\n",
       " [1, 2, 3],\n",
       " ['a', 'b', 'c'],\n",
       " ['abc', 'deg'],\n",
       " [10.21, 2, 5],\n",
       " [1, 2, 3],\n",
       " ['a', 'b', 'c'],\n",
       " ['abc', 'deg'],\n",
       " [10.21, 2, 5],\n",
       " [1, 2, 3],\n",
       " ['a', 'b', 'c'],\n",
       " ['abc', 'deg'],\n",
       " [10.21, 2, 5],\n",
       " [1, 2, 3],\n",
       " ['a', 'b', 'c'],\n",
       " ['abc', 'deg'],\n",
       " [10.21, 2, 5],\n",
       " [1, 2, 3],\n",
       " ['a', 'b', 'c'],\n",
       " ['abc', 'deg'],\n",
       " [10.21, 2, 5],\n",
       " [1, 2, 3],\n",
       " ['a', 'b', 'c'],\n",
       " ['abc', 'deg'],\n",
       " [10.21, 2, 5],\n",
       " [1, 2, 3],\n",
       " ['a', 'b', 'c'],\n",
       " ['abc', 'deg'],\n",
       " [10.21, 2, 5],\n",
       " [1, 2, 3],\n",
       " ['a', 'b', 'c'],\n",
       " ['abc', 'deg'],\n",
       " [10.21, 2, 5],\n",
       " [1, 2, 3],\n",
       " ['a', 'b', 'c'],\n",
       " ['abc', 'deg'],\n",
       " [10.21, 2, 5]]"
      ]
     },
     "execution_count": 167,
     "metadata": {},
     "output_type": "execute_result"
    }
   ],
   "source": [
    "my_list*2"
   ]
  },
  {
   "cell_type": "code",
   "execution_count": 169,
   "metadata": {},
   "outputs": [
    {
     "data": {
      "text/plain": [
       "['a', 'b', 'c']"
      ]
     },
     "execution_count": 169,
     "metadata": {},
     "output_type": "execute_result"
    }
   ],
   "source": [
    "my_list.pop(0)"
   ]
  },
  {
   "cell_type": "code",
   "execution_count": 171,
   "metadata": {},
   "outputs": [
    {
     "data": {
      "text/plain": [
       "[['abc', 'deg'],\n",
       " [10.21, 2, 5],\n",
       " [1, 2, 3],\n",
       " ['a', 'b', 'c'],\n",
       " ['abc', 'deg'],\n",
       " [10.21, 2, 5],\n",
       " [1, 2, 3],\n",
       " ['a', 'b', 'c'],\n",
       " ['abc', 'deg'],\n",
       " [10.21, 2, 5],\n",
       " [1, 2, 3],\n",
       " ['a', 'b', 'c'],\n",
       " ['abc', 'deg'],\n",
       " [10.21, 2, 5],\n",
       " [1, 2, 3],\n",
       " ['a', 'b', 'c'],\n",
       " ['abc', 'deg'],\n",
       " [10.21, 2, 5],\n",
       " [1, 2, 3],\n",
       " ['a', 'b', 'c'],\n",
       " ['abc', 'deg'],\n",
       " [10.21, 2, 5],\n",
       " [1, 2, 3],\n",
       " ['a', 'b', 'c'],\n",
       " ['abc', 'deg'],\n",
       " [10.21, 2, 5],\n",
       " [1, 2, 3],\n",
       " ['a', 'b', 'c'],\n",
       " ['abc', 'deg'],\n",
       " [10.21, 2, 5],\n",
       " [1, 2, 3],\n",
       " ['a', 'b', 'c'],\n",
       " ['abc', 'deg'],\n",
       " [10.21, 2, 5],\n",
       " [1, 2, 3],\n",
       " ['a', 'b', 'c'],\n",
       " ['abc', 'deg'],\n",
       " [10.21, 2, 5],\n",
       " [1, 2, 3],\n",
       " ['a', 'b', 'c'],\n",
       " ['abc', 'deg'],\n",
       " [10.21, 2, 5],\n",
       " [1, 2, 3],\n",
       " ['a', 'b', 'c'],\n",
       " ['abc', 'deg'],\n",
       " [10.21, 2, 5],\n",
       " [1, 2, 3],\n",
       " ['a', 'b', 'c'],\n",
       " ['abc', 'deg'],\n",
       " [10.21, 2, 5],\n",
       " [1, 2, 3],\n",
       " ['a', 'b', 'c'],\n",
       " ['abc', 'deg'],\n",
       " [10.21, 2, 5],\n",
       " [1, 2, 3],\n",
       " ['a', 'b', 'c'],\n",
       " ['abc', 'deg'],\n",
       " [10.21, 2, 5],\n",
       " [1, 2, 3],\n",
       " ['a', 'b', 'c'],\n",
       " ['abc', 'deg'],\n",
       " [10.21, 2, 5]]"
      ]
     },
     "execution_count": 171,
     "metadata": {},
     "output_type": "execute_result"
    }
   ],
   "source": [
    "my_list"
   ]
  },
  {
   "cell_type": "code",
   "execution_count": 174,
   "metadata": {},
   "outputs": [],
   "source": [
    "lst_1=[1,2,3]\n",
    "lst_2=[4,5,6]\n",
    "lst_3=[7,8,9]"
   ]
  },
  {
   "cell_type": "code",
   "execution_count": 177,
   "metadata": {},
   "outputs": [],
   "source": [
    "matrix=[lst_1,lst_2,lst_3]"
   ]
  },
  {
   "cell_type": "code",
   "execution_count": 179,
   "metadata": {},
   "outputs": [
    {
     "data": {
      "text/plain": [
       "[[1, 2, 3], [4, 5, 6], [7, 8, 9]]"
      ]
     },
     "execution_count": 179,
     "metadata": {},
     "output_type": "execute_result"
    }
   ],
   "source": [
    "matrix"
   ]
  },
  {
   "cell_type": "code",
   "execution_count": 181,
   "metadata": {},
   "outputs": [
    {
     "data": {
      "text/plain": [
       "6"
      ]
     },
     "execution_count": 181,
     "metadata": {},
     "output_type": "execute_result"
    }
   ],
   "source": [
    "matrix[1][2]"
   ]
  },
  {
   "cell_type": "code",
   "execution_count": 183,
   "metadata": {},
   "outputs": [
    {
     "data": {
      "text/plain": [
       "[[1, 2, 3], [4, 5, 6], [7, 8, 9]]"
      ]
     },
     "execution_count": 183,
     "metadata": {},
     "output_type": "execute_result"
    }
   ],
   "source": [
    "matrix"
   ]
  },
  {
   "cell_type": "code",
   "execution_count": 195,
   "metadata": {},
   "outputs": [],
   "source": [
    "first_col=[row[0] for row in matrix]"
   ]
  },
  {
   "cell_type": "code",
   "execution_count": 196,
   "metadata": {},
   "outputs": [
    {
     "data": {
      "text/plain": [
       "[1, 4, 7]"
      ]
     },
     "execution_count": 196,
     "metadata": {},
     "output_type": "execute_result"
    }
   ],
   "source": [
    "first_col"
   ]
  }
 ],
 "metadata": {
  "kernelspec": {
   "display_name": "Python 3",
   "language": "python",
   "name": "python3"
  },
  "language_info": {
   "codemirror_mode": {
    "name": "ipython",
    "version": 3
   },
   "file_extension": ".py",
   "mimetype": "text/x-python",
   "name": "python",
   "nbconvert_exporter": "python",
   "pygments_lexer": "ipython3",
   "version": "3.6.4"
  }
 },
 "nbformat": 4,
 "nbformat_minor": 2
}
